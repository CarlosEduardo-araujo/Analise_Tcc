{
 "cells": [
  {
   "cell_type": "markdown",
   "metadata": {},
   "source": [
    "## 0.0 Importações"
   ]
  },
  {
   "cell_type": "code",
   "execution_count": 1,
   "metadata": {},
   "outputs": [],
   "source": [
    "import pandas as pd\n",
    "import inflection\n",
    "import seaborn as sns\n",
    "import matplotlib.pyplot as plt\n",
    "import numpy as np\n",
    "import math\n",
    "import plotly.graph_objects as go\n"
   ]
  },
  {
   "cell_type": "markdown",
   "metadata": {},
   "source": [
    "### 0.1 Carregamento da base"
   ]
  },
  {
   "cell_type": "code",
   "execution_count": 2,
   "metadata": {},
   "outputs": [],
   "source": [
    "df_raw = pd.read_csv(r\"..\\Data\\matriculasFinal-phase2.csv\",sep=';', encoding='latin')\n"
   ]
  },
  {
   "cell_type": "markdown",
   "metadata": {},
   "source": [
    "## 1.0 Descrição dos dados"
   ]
  },
  {
   "cell_type": "code",
   "execution_count": 3,
   "metadata": {},
   "outputs": [
    {
     "data": {
      "text/html": [
       "<div>\n",
       "<style scoped>\n",
       "    .dataframe tbody tr th:only-of-type {\n",
       "        vertical-align: middle;\n",
       "    }\n",
       "\n",
       "    .dataframe tbody tr th {\n",
       "        vertical-align: top;\n",
       "    }\n",
       "\n",
       "    .dataframe thead th {\n",
       "        text-align: right;\n",
       "    }\n",
       "</style>\n",
       "<table border=\"1\" class=\"dataframe\">\n",
       "  <thead>\n",
       "    <tr style=\"text-align: right;\">\n",
       "      <th></th>\n",
       "      <th>Cod_Pessoa</th>\n",
       "      <th>cod_matricula</th>\n",
       "      <th>__Dt_Conclusao_Ensino_Medio</th>\n",
       "      <th>Matriz_Estrutura_Curso</th>\n",
       "      <th>ano_letivo_ini</th>\n",
       "      <th>Periodo_letivo_ini</th>\n",
       "      <th>Sit_Matricula</th>\n",
       "      <th>Ano_Let_Atual</th>\n",
       "      <th>Periodo_Let_Atual</th>\n",
       "      <th>Periodo_Atual</th>\n",
       "      <th>...</th>\n",
       "      <th>Desc_Turno_Ini</th>\n",
       "      <th>dt_matricula</th>\n",
       "      <th>DT_Rematricula</th>\n",
       "      <th>clPeriodo_Let_ini</th>\n",
       "      <th>Qtd_Periodos</th>\n",
       "      <th>Ultima_Aula_Presente</th>\n",
       "      <th>Ultimo_Periodo_Letivo_Presente</th>\n",
       "      <th>Situacao_Ultimo_Periodo_Letivo</th>\n",
       "      <th>DESC_SIT_MATRICULA_PERIODO</th>\n",
       "      <th>Ultimo_Evento_Matricula</th>\n",
       "    </tr>\n",
       "  </thead>\n",
       "  <tbody>\n",
       "    <tr>\n",
       "      <th>0</th>\n",
       "      <td>414628</td>\n",
       "      <td>518696</td>\n",
       "      <td>1986.0</td>\n",
       "      <td>32</td>\n",
       "      <td>2023</td>\n",
       "      <td>2</td>\n",
       "      <td>2</td>\n",
       "      <td>2024</td>\n",
       "      <td>1</td>\n",
       "      <td>2</td>\n",
       "      <td>...</td>\n",
       "      <td>Integral</td>\n",
       "      <td>13/07/2023</td>\n",
       "      <td>13/07/2023</td>\n",
       "      <td>2023/2</td>\n",
       "      <td>10</td>\n",
       "      <td>30/09/2024</td>\n",
       "      <td>2024/1</td>\n",
       "      <td>Trancado</td>\n",
       "      <td>Trancado</td>\n",
       "      <td>Trancamento de Período: 04/03/2024</td>\n",
       "    </tr>\n",
       "    <tr>\n",
       "      <th>1</th>\n",
       "      <td>98957</td>\n",
       "      <td>97636</td>\n",
       "      <td>2008.0</td>\n",
       "      <td>32</td>\n",
       "      <td>2012</td>\n",
       "      <td>2</td>\n",
       "      <td>10</td>\n",
       "      <td>2016</td>\n",
       "      <td>2</td>\n",
       "      <td>7</td>\n",
       "      <td>...</td>\n",
       "      <td>Matutino</td>\n",
       "      <td>10/12/2012</td>\n",
       "      <td>10/12/2012</td>\n",
       "      <td>2012/2</td>\n",
       "      <td>11</td>\n",
       "      <td>20/03/2017</td>\n",
       "      <td>2016/2</td>\n",
       "      <td>Cancelou</td>\n",
       "      <td>Cancelou</td>\n",
       "      <td>Cancelamento Voluntário: 31/10/2016</td>\n",
       "    </tr>\n",
       "    <tr>\n",
       "      <th>2</th>\n",
       "      <td>98957</td>\n",
       "      <td>205828</td>\n",
       "      <td>2008.0</td>\n",
       "      <td>32</td>\n",
       "      <td>2016</td>\n",
       "      <td>2</td>\n",
       "      <td>18</td>\n",
       "      <td>2016</td>\n",
       "      <td>2</td>\n",
       "      <td>1</td>\n",
       "      <td>...</td>\n",
       "      <td>Matutino</td>\n",
       "      <td>31/10/2016</td>\n",
       "      <td>31/10/2016</td>\n",
       "      <td>2016/2</td>\n",
       "      <td>11</td>\n",
       "      <td>20/03/2017</td>\n",
       "      <td>2016/2</td>\n",
       "      <td>Aprovado</td>\n",
       "      <td>Aprovado</td>\n",
       "      <td>Concluiu: 06/04/2017</td>\n",
       "    </tr>\n",
       "    <tr>\n",
       "      <th>3</th>\n",
       "      <td>436461</td>\n",
       "      <td>519459</td>\n",
       "      <td>2022.0</td>\n",
       "      <td>32</td>\n",
       "      <td>2023</td>\n",
       "      <td>2</td>\n",
       "      <td>0</td>\n",
       "      <td>2024</td>\n",
       "      <td>2</td>\n",
       "      <td>10</td>\n",
       "      <td>...</td>\n",
       "      <td>Integral</td>\n",
       "      <td>20/07/2023</td>\n",
       "      <td>20/07/2023</td>\n",
       "      <td>2023/2</td>\n",
       "      <td>10</td>\n",
       "      <td>05/12/2024</td>\n",
       "      <td>2024/2</td>\n",
       "      <td>Matriculado</td>\n",
       "      <td>Matriculado</td>\n",
       "      <td>Renovou matrícula: 20/07/2023</td>\n",
       "    </tr>\n",
       "    <tr>\n",
       "      <th>4</th>\n",
       "      <td>108508</td>\n",
       "      <td>107372</td>\n",
       "      <td>NaN</td>\n",
       "      <td>32</td>\n",
       "      <td>2013</td>\n",
       "      <td>1</td>\n",
       "      <td>9</td>\n",
       "      <td>2017</td>\n",
       "      <td>2</td>\n",
       "      <td>6</td>\n",
       "      <td>...</td>\n",
       "      <td>Matutino</td>\n",
       "      <td>21/05/2013</td>\n",
       "      <td>21/05/2013</td>\n",
       "      <td>2013/1</td>\n",
       "      <td>11</td>\n",
       "      <td>19/07/2017</td>\n",
       "      <td>2017/1</td>\n",
       "      <td>Abandonou</td>\n",
       "      <td>Abandonou</td>\n",
       "      <td>Desistência (Evasão): 26/09/2017</td>\n",
       "    </tr>\n",
       "  </tbody>\n",
       "</table>\n",
       "<p>5 rows × 55 columns</p>\n",
       "</div>"
      ],
      "text/plain": [
       "   Cod_Pessoa  cod_matricula  __Dt_Conclusao_Ensino_Medio  \\\n",
       "0      414628         518696                       1986.0   \n",
       "1       98957          97636                       2008.0   \n",
       "2       98957         205828                       2008.0   \n",
       "3      436461         519459                       2022.0   \n",
       "4      108508         107372                          NaN   \n",
       "\n",
       "   Matriz_Estrutura_Curso  ano_letivo_ini  Periodo_letivo_ini  Sit_Matricula  \\\n",
       "0                      32            2023                   2              2   \n",
       "1                      32            2012                   2             10   \n",
       "2                      32            2016                   2             18   \n",
       "3                      32            2023                   2              0   \n",
       "4                      32            2013                   1              9   \n",
       "\n",
       "   Ano_Let_Atual  Periodo_Let_Atual  Periodo_Atual  ... Desc_Turno_Ini  \\\n",
       "0           2024                  1              2  ...       Integral   \n",
       "1           2016                  2              7  ...       Matutino   \n",
       "2           2016                  2              1  ...       Matutino   \n",
       "3           2024                  2             10  ...       Integral   \n",
       "4           2017                  2              6  ...       Matutino   \n",
       "\n",
       "   dt_matricula DT_Rematricula clPeriodo_Let_ini  Qtd_Periodos  \\\n",
       "0    13/07/2023     13/07/2023            2023/2            10   \n",
       "1    10/12/2012     10/12/2012            2012/2            11   \n",
       "2    31/10/2016     31/10/2016            2016/2            11   \n",
       "3    20/07/2023     20/07/2023            2023/2            10   \n",
       "4    21/05/2013     21/05/2013            2013/1            11   \n",
       "\n",
       "  Ultima_Aula_Presente Ultimo_Periodo_Letivo_Presente  \\\n",
       "0           30/09/2024                         2024/1   \n",
       "1           20/03/2017                         2016/2   \n",
       "2           20/03/2017                         2016/2   \n",
       "3           05/12/2024                         2024/2   \n",
       "4           19/07/2017                         2017/1   \n",
       "\n",
       "   Situacao_Ultimo_Periodo_Letivo  DESC_SIT_MATRICULA_PERIODO  \\\n",
       "0                        Trancado                    Trancado   \n",
       "1                        Cancelou                    Cancelou   \n",
       "2                        Aprovado                    Aprovado   \n",
       "3                     Matriculado                 Matriculado   \n",
       "4                       Abandonou                   Abandonou   \n",
       "\n",
       "               Ultimo_Evento_Matricula  \n",
       "0   Trancamento de Período: 04/03/2024  \n",
       "1  Cancelamento Voluntário: 31/10/2016  \n",
       "2                 Concluiu: 06/04/2017  \n",
       "3        Renovou matrícula: 20/07/2023  \n",
       "4     Desistência (Evasão): 26/09/2017  \n",
       "\n",
       "[5 rows x 55 columns]"
      ]
     },
     "execution_count": 3,
     "metadata": {},
     "output_type": "execute_result"
    }
   ],
   "source": [
    "df1 = df_raw.copy()\n",
    "df1.head()"
   ]
  },
  {
   "cell_type": "code",
   "execution_count": 34,
   "metadata": {},
   "outputs": [],
   "source": [
    "df1[\"cidade\"] = df1[\"texto_cidade\"].apply(lambda x: x if pd.isna(x) else x.split(' ')[0])\n",
    "df1[\"cidade\"] = df1[\"cidade\"].apply(lambda x: x if pd.isna(x) else x.replace(' ',\"\"))\n",
    "\n",
    "df1.head()\n",
    "\n",
    "df_mapa =  pd.DataFrame(df1.pivot_table(index=\"cidade\", values=\"cod_matricula\", aggfunc=\"count\").sort_values(\"cod_matricula\", ascending=False))  "
   ]
  },
  {
   "cell_type": "code",
   "execution_count": 36,
   "metadata": {},
   "outputs": [
    {
     "ename": "AttributeError",
     "evalue": "'DataFrame' object has no attribute 'type'",
     "output_type": "error",
     "traceback": [
      "\u001b[1;31m---------------------------------------------------------------------------\u001b[0m",
      "\u001b[1;31mAttributeError\u001b[0m                            Traceback (most recent call last)",
      "\u001b[1;32m~\\AppData\\Local\\Temp\\ipykernel_11096\\2420025865.py\u001b[0m in \u001b[0;36m?\u001b[1;34m()\u001b[0m\n\u001b[1;32m----> 1\u001b[1;33m \u001b[0mdf_mapa\u001b[0m\u001b[1;33m.\u001b[0m\u001b[0mtype\u001b[0m\u001b[1;33m\u001b[0m\u001b[1;33m\u001b[0m\u001b[0m\n\u001b[0m",
      "\u001b[1;32mc:\\Users\\carlos.bezerra\\AppData\\Local\\Programs\\Python\\Python312\\Lib\\site-packages\\pandas\\core\\generic.py\u001b[0m in \u001b[0;36m?\u001b[1;34m(self, name)\u001b[0m\n\u001b[0;32m   6295\u001b[0m             \u001b[1;32mand\u001b[0m \u001b[0mname\u001b[0m \u001b[1;32mnot\u001b[0m \u001b[1;32min\u001b[0m \u001b[0mself\u001b[0m\u001b[1;33m.\u001b[0m\u001b[0m_accessors\u001b[0m\u001b[1;33m\u001b[0m\u001b[1;33m\u001b[0m\u001b[0m\n\u001b[0;32m   6296\u001b[0m             \u001b[1;32mand\u001b[0m \u001b[0mself\u001b[0m\u001b[1;33m.\u001b[0m\u001b[0m_info_axis\u001b[0m\u001b[1;33m.\u001b[0m\u001b[0m_can_hold_identifiers_and_holds_name\u001b[0m\u001b[1;33m(\u001b[0m\u001b[0mname\u001b[0m\u001b[1;33m)\u001b[0m\u001b[1;33m\u001b[0m\u001b[1;33m\u001b[0m\u001b[0m\n\u001b[0;32m   6297\u001b[0m         \u001b[1;33m)\u001b[0m\u001b[1;33m:\u001b[0m\u001b[1;33m\u001b[0m\u001b[1;33m\u001b[0m\u001b[0m\n\u001b[0;32m   6298\u001b[0m             \u001b[1;32mreturn\u001b[0m \u001b[0mself\u001b[0m\u001b[1;33m[\u001b[0m\u001b[0mname\u001b[0m\u001b[1;33m]\u001b[0m\u001b[1;33m\u001b[0m\u001b[1;33m\u001b[0m\u001b[0m\n\u001b[1;32m-> 6299\u001b[1;33m         \u001b[1;32mreturn\u001b[0m \u001b[0mobject\u001b[0m\u001b[1;33m.\u001b[0m\u001b[0m__getattribute__\u001b[0m\u001b[1;33m(\u001b[0m\u001b[0mself\u001b[0m\u001b[1;33m,\u001b[0m \u001b[0mname\u001b[0m\u001b[1;33m)\u001b[0m\u001b[1;33m\u001b[0m\u001b[1;33m\u001b[0m\u001b[0m\n\u001b[0m",
      "\u001b[1;31mAttributeError\u001b[0m: 'DataFrame' object has no attribute 'type'"
     ]
    }
   ],
   "source": []
  },
  {
   "cell_type": "markdown",
   "metadata": {},
   "source": [
    "### 1.1 Dimensão dos dados"
   ]
  },
  {
   "cell_type": "code",
   "execution_count": 5,
   "metadata": {},
   "outputs": [
    {
     "name": "stdout",
     "output_type": "stream",
     "text": [
      "Número de linhas: 1632\n",
      "Número de colunas: 55\n"
     ]
    }
   ],
   "source": [
    "print(f\"Número de linhas: {df1.shape[0]}\")\n",
    "print(f\"Número de colunas: {df1.shape[1]}\")"
   ]
  },
  {
   "cell_type": "markdown",
   "metadata": {},
   "source": [
    "### 1.2 Renomeando as colunas"
   ]
  },
  {
   "cell_type": "code",
   "execution_count": null,
   "metadata": {},
   "outputs": [],
   "source": [
    "def snake_case(df):\n",
    "    cols_old = df.columns.to_list()\n",
    "    snakecase = lambda x: inflection.underscore(x)\n",
    "    cols_new = map(snakecase, cols_old)\n",
    "    df.columns = cols_new\n",
    "    return df\n",
    "\n",
    "df1 = snake_case(df1)\n"
   ]
  },
  {
   "cell_type": "markdown",
   "metadata": {},
   "source": [
    "### 1.3 tipo dos dados"
   ]
  },
  {
   "cell_type": "code",
   "execution_count": null,
   "metadata": {},
   "outputs": [],
   "source": []
  },
  {
   "cell_type": "code",
   "execution_count": 9,
   "metadata": {},
   "outputs": [
    {
     "data": {
      "text/plain": [
       "cod_pessoa                          int64\n",
       "cod_matricula                       int64\n",
       "__dt_conclusao_ensino_medio       float64\n",
       "matriz_estrutura_curso              int64\n",
       "ano_letivo_ini                      int64\n",
       "periodo_letivo_ini                  int64\n",
       "sit_matricula                       int64\n",
       "ano_let_atual                       int64\n",
       "periodo_let_atual                   int64\n",
       "periodo_atual                       int64\n",
       "dt_nascimento                      object\n",
       "cod_aluno                           int64\n",
       "tipo_escola_origem                 object\n",
       "sexo                               object\n",
       "cod_cidade                        float64\n",
       "texto_cidade                       object\n",
       "desc_forma_ingresso_matricula      object\n",
       "ano_conclusao_2_grau              float64\n",
       "cod_escola_2_grau                 float64\n",
       "cod_grau_instrucao_mae             object\n",
       "pai_falecido                      float64\n",
       "mae_falecida                      float64\n",
       "tipo_escola_origem_1               object\n",
       "desc_cor                           object\n",
       "cod_pessoa_1                        int64\n",
       "cod_grau_instrucao                 object\n",
       "cod_nacionalidade                  object\n",
       "cod_estado_civil                   object\n",
       "cod_cidade_1                      float64\n",
       "sexo_1                             object\n",
       "dt_nascimento_1                    object\n",
       "cod_naturalidade                  float64\n",
       "estado_titulo_ele                  object\n",
       "data_titulo_ele                    object\n",
       "dt_cadastro                        object\n",
       "coeficiente_rendimento             object\n",
       "desc_nacionalidade                 object\n",
       "desc_escola_2_grau                 object\n",
       "desc_naturalidade                  object\n",
       "cod_turno                          object\n",
       "desc_turno                         object\n",
       "desc_estado_civil                  object\n",
       "desc_tipo_escola_origem            object\n",
       "desc_sit_matricula                 object\n",
       "desc_cota                          object\n",
       "desc_turno_ini                     object\n",
       "dt_matricula                       object\n",
       "dt_rematricula                     object\n",
       "cl_periodo_let_ini                 object\n",
       "qtd_periodos                        int64\n",
       "ultima_aula_presente               object\n",
       "ultimo_periodo_letivo_presente     object\n",
       "situacao_ultimo_periodo_letivo     object\n",
       "desc_sit_matricula_periodo         object\n",
       "ultimo_evento_matricula            object\n",
       "dtype: object"
      ]
     },
     "execution_count": 9,
     "metadata": {},
     "output_type": "execute_result"
    }
   ],
   "source": [
    "df1.dtypes"
   ]
  },
  {
   "cell_type": "markdown",
   "metadata": {},
   "source": [
    "### 1.2 Checando dados nulos"
   ]
  },
  {
   "cell_type": "code",
   "execution_count": 10,
   "metadata": {},
   "outputs": [
    {
     "data": {
      "text/plain": [
       "cod_pessoa                          0\n",
       "cod_matricula                       0\n",
       "__dt_conclusao_ensino_medio       174\n",
       "matriz_estrutura_curso              0\n",
       "ano_letivo_ini                      0\n",
       "periodo_letivo_ini                  0\n",
       "sit_matricula                       0\n",
       "ano_let_atual                       0\n",
       "periodo_let_atual                   0\n",
       "periodo_atual                       0\n",
       "dt_nascimento                       0\n",
       "cod_aluno                           0\n",
       "tipo_escola_origem                173\n",
       "sexo                                0\n",
       "cod_cidade                         14\n",
       "texto_cidade                       14\n",
       "desc_forma_ingresso_matricula       0\n",
       "ano_conclusao_2_grau              174\n",
       "cod_escola_2_grau                 146\n",
       "cod_grau_instrucao_mae            794\n",
       "pai_falecido                       65\n",
       "mae_falecida                       59\n",
       "tipo_escola_origem_1              173\n",
       "desc_cor                            0\n",
       "cod_pessoa_1                        0\n",
       "cod_grau_instrucao                597\n",
       "cod_nacionalidade                   0\n",
       "cod_estado_civil                  102\n",
       "cod_cidade_1                       14\n",
       "sexo_1                              0\n",
       "dt_nascimento_1                     0\n",
       "cod_naturalidade                    2\n",
       "estado_titulo_ele                 265\n",
       "data_titulo_ele                   281\n",
       "dt_cadastro                         0\n",
       "coeficiente_rendimento              0\n",
       "desc_nacionalidade                  0\n",
       "desc_escola_2_grau                146\n",
       "desc_naturalidade                   2\n",
       "cod_turno                           0\n",
       "desc_turno                          0\n",
       "desc_estado_civil                 102\n",
       "desc_tipo_escola_origem           173\n",
       "desc_sit_matricula                  0\n",
       "desc_cota                         519\n",
       "desc_turno_ini                      0\n",
       "dt_matricula                        0\n",
       "dt_rematricula                      0\n",
       "cl_periodo_let_ini                  0\n",
       "qtd_periodos                        0\n",
       "ultima_aula_presente               19\n",
       "ultimo_periodo_letivo_presente      0\n",
       "situacao_ultimo_periodo_letivo      0\n",
       "desc_sit_matricula_periodo          0\n",
       "ultimo_evento_matricula             1\n",
       "dtype: int64"
      ]
     },
     "execution_count": 10,
     "metadata": {},
     "output_type": "execute_result"
    }
   ],
   "source": [
    "df1.isna().sum()"
   ]
  },
  {
   "cell_type": "markdown",
   "metadata": {},
   "source": [
    "## 2.0 Feature Engineering"
   ]
  },
  {
   "cell_type": "code",
   "execution_count": 11,
   "metadata": {},
   "outputs": [],
   "source": [
    "df1[\"desc_tipo_escola_origem\"] = df1[\"desc_tipo_escola_origem\"].apply(lambda x: \"Pública\" if \"Pública\" in str(x) else x)\n"
   ]
  },
  {
   "cell_type": "code",
   "execution_count": 12,
   "metadata": {},
   "outputs": [],
   "source": [
    "df1 [\"dt_ultimo_evento\"]  = df1['ultimo_evento_matricula'].apply(lambda x: x if pd.isna(x) else x.split(': ')[1])\n",
    "df1[\"dt_ultimo_evento\"] = pd.to_datetime(df1[\"dt_ultimo_evento\"], format='%d/%m/%Y')"
   ]
  },
  {
   "cell_type": "code",
   "execution_count": 37,
   "metadata": {},
   "outputs": [
    {
     "ename": "AttributeError",
     "evalue": "'Series' object has no attribute 'month'",
     "output_type": "error",
     "traceback": [
      "\u001b[1;31m---------------------------------------------------------------------------\u001b[0m",
      "\u001b[1;31mAttributeError\u001b[0m                            Traceback (most recent call last)",
      "\u001b[1;32m~\\AppData\\Local\\Temp\\ipykernel_11096\\1100057321.py\u001b[0m in \u001b[0;36m?\u001b[1;34m()\u001b[0m\n\u001b[0;32m      1\u001b[0m \u001b[0mdf1\u001b[0m\u001b[1;33m[\u001b[0m\u001b[1;34m\"ano_letivo_ultimo_evento\"\u001b[0m\u001b[1;33m]\u001b[0m \u001b[1;33m=\u001b[0m \u001b[0mdf1\u001b[0m\u001b[1;33m[\u001b[0m\u001b[1;34m\"dt_ultimo_evento\"\u001b[0m\u001b[1;33m]\u001b[0m\u001b[1;33m.\u001b[0m\u001b[0mdt\u001b[0m\u001b[1;33m.\u001b[0m\u001b[0myear\u001b[0m\u001b[1;33m.\u001b[0m\u001b[0mastype\u001b[0m\u001b[1;33m(\u001b[0m\u001b[0mfloat\u001b[0m\u001b[1;33m)\u001b[0m\u001b[1;33m\u001b[0m\u001b[1;33m\u001b[0m\u001b[0m\n\u001b[1;32m----> 2\u001b[1;33m \u001b[0mdf1\u001b[0m\u001b[1;33m[\u001b[0m\u001b[1;34m\"periodo_letivo_ultimo_evento\"\u001b[0m\u001b[1;33m]\u001b[0m \u001b[1;33m=\u001b[0m \u001b[0mdf1\u001b[0m\u001b[1;33m[\u001b[0m\u001b[1;34m\"dt_ultimo_evento\"\u001b[0m\u001b[1;33m]\u001b[0m\u001b[1;33m.\u001b[0m\u001b[0mmonth\u001b[0m\u001b[1;33m(\u001b[0m\u001b[1;33m)\u001b[0m\u001b[1;33m\u001b[0m\u001b[1;33m\u001b[0m\u001b[0m\n\u001b[0m\u001b[0;32m      3\u001b[0m \u001b[0mdf1\u001b[0m\u001b[1;33m.\u001b[0m\u001b[0mhead\u001b[0m\u001b[1;33m(\u001b[0m\u001b[1;33m)\u001b[0m\u001b[1;33m\u001b[0m\u001b[1;33m\u001b[0m\u001b[0m\n\u001b[0;32m      4\u001b[0m \u001b[0mdf1\u001b[0m\u001b[1;33m.\u001b[0m\u001b[0mdtypes\u001b[0m\u001b[1;33m\u001b[0m\u001b[1;33m\u001b[0m\u001b[0m\n",
      "\u001b[1;32mc:\\Users\\carlos.bezerra\\AppData\\Local\\Programs\\Python\\Python312\\Lib\\site-packages\\pandas\\core\\generic.py\u001b[0m in \u001b[0;36m?\u001b[1;34m(self, name)\u001b[0m\n\u001b[0;32m   6295\u001b[0m             \u001b[1;32mand\u001b[0m \u001b[0mname\u001b[0m \u001b[1;32mnot\u001b[0m \u001b[1;32min\u001b[0m \u001b[0mself\u001b[0m\u001b[1;33m.\u001b[0m\u001b[0m_accessors\u001b[0m\u001b[1;33m\u001b[0m\u001b[1;33m\u001b[0m\u001b[0m\n\u001b[0;32m   6296\u001b[0m             \u001b[1;32mand\u001b[0m \u001b[0mself\u001b[0m\u001b[1;33m.\u001b[0m\u001b[0m_info_axis\u001b[0m\u001b[1;33m.\u001b[0m\u001b[0m_can_hold_identifiers_and_holds_name\u001b[0m\u001b[1;33m(\u001b[0m\u001b[0mname\u001b[0m\u001b[1;33m)\u001b[0m\u001b[1;33m\u001b[0m\u001b[1;33m\u001b[0m\u001b[0m\n\u001b[0;32m   6297\u001b[0m         \u001b[1;33m)\u001b[0m\u001b[1;33m:\u001b[0m\u001b[1;33m\u001b[0m\u001b[1;33m\u001b[0m\u001b[0m\n\u001b[0;32m   6298\u001b[0m             \u001b[1;32mreturn\u001b[0m \u001b[0mself\u001b[0m\u001b[1;33m[\u001b[0m\u001b[0mname\u001b[0m\u001b[1;33m]\u001b[0m\u001b[1;33m\u001b[0m\u001b[1;33m\u001b[0m\u001b[0m\n\u001b[1;32m-> 6299\u001b[1;33m         \u001b[1;32mreturn\u001b[0m \u001b[0mobject\u001b[0m\u001b[1;33m.\u001b[0m\u001b[0m__getattribute__\u001b[0m\u001b[1;33m(\u001b[0m\u001b[0mself\u001b[0m\u001b[1;33m,\u001b[0m \u001b[0mname\u001b[0m\u001b[1;33m)\u001b[0m\u001b[1;33m\u001b[0m\u001b[1;33m\u001b[0m\u001b[0m\n\u001b[0m",
      "\u001b[1;31mAttributeError\u001b[0m: 'Series' object has no attribute 'month'"
     ]
    }
   ],
   "source": [
    "df1[\"ano_letivo_ultimo_evento\"] = df1[\"dt_ultimo_evento\"].dt.year.astype(float)\n",
    "df1[\"periodo_letivo_ultimo_evento\"] = df1[\"dt_ultimo_evento\"].month()\n",
    "df1.head()\n",
    "df1.dtypes"
   ]
  },
  {
   "cell_type": "code",
   "execution_count": null,
   "metadata": {},
   "outputs": [],
   "source": []
  },
  {
   "cell_type": "markdown",
   "metadata": {},
   "source": [
    "## 2.0 Perguntas à serem respondidas:"
   ]
  },
  {
   "cell_type": "markdown",
   "metadata": {},
   "source": [
    "### 1 Qual a distribuição dos alunos por cidade ?"
   ]
  },
  {
   "cell_type": "markdown",
   "metadata": {},
   "source": [
    "### 2.1 Qual é a distribuição das situações de matrícula (ativo, trancado, jubilado, etc.)?"
   ]
  },
  {
   "cell_type": "code",
   "execution_count": 19,
   "metadata": {},
   "outputs": [
    {
     "data": {
      "text/plain": [
       "Index(['cod_pessoa', 'cod_matricula', '__dt_conclusao_ensino_medio',\n",
       "       'matriz_estrutura_curso', 'ano_letivo_ini', 'periodo_letivo_ini',\n",
       "       'sit_matricula', 'ano_let_atual', 'periodo_let_atual', 'periodo_atual',\n",
       "       'dt_nascimento', 'cod_aluno', 'tipo_escola_origem', 'sexo',\n",
       "       'cod_cidade', 'texto_cidade', 'desc_forma_ingresso_matricula',\n",
       "       'ano_conclusao_2_grau', 'cod_escola_2_grau', 'cod_grau_instrucao_mae',\n",
       "       'pai_falecido', 'mae_falecida', 'tipo_escola_origem_1', 'desc_cor',\n",
       "       'cod_pessoa_1', 'cod_grau_instrucao', 'cod_nacionalidade',\n",
       "       'cod_estado_civil', 'cod_cidade_1', 'sexo_1', 'dt_nascimento_1',\n",
       "       'cod_naturalidade', 'estado_titulo_ele', 'data_titulo_ele',\n",
       "       'dt_cadastro', 'coeficiente_rendimento', 'desc_nacionalidade',\n",
       "       'desc_escola_2_grau', 'desc_naturalidade', 'cod_turno', 'desc_turno',\n",
       "       'desc_estado_civil', 'desc_tipo_escola_origem', 'desc_sit_matricula',\n",
       "       'desc_cota', 'desc_turno_ini', 'dt_matricula', 'dt_rematricula',\n",
       "       'cl_periodo_let_ini', 'qtd_periodos', 'ultima_aula_presente',\n",
       "       'ultimo_periodo_letivo_presente', 'situacao_ultimo_periodo_letivo',\n",
       "       'desc_sit_matricula_periodo', 'ultimo_evento_matricula'],\n",
       "      dtype='object')"
      ]
     },
     "execution_count": 19,
     "metadata": {},
     "output_type": "execute_result"
    }
   ],
   "source": [
    "df1.columns"
   ]
  },
  {
   "cell_type": "code",
   "execution_count": 15,
   "metadata": {},
   "outputs": [
    {
     "data": {
      "text/plain": [
       "desc_sit_matricula\n",
       "Abandono                      33.455882\n",
       "Matriculado                   21.752451\n",
       "Cancelado Voluntariamente     17.340686\n",
       "Formado                       17.279412\n",
       "Transferido Interno            3.370098\n",
       "Cancelado Compulsoriamente     3.125000\n",
       "Trancado                       2.267157\n",
       "Transferido Externo            1.102941\n",
       "Estagiario (Concludente)       0.183824\n",
       "Concludente                    0.122549\n",
       "Name: proportion, dtype: float64"
      ]
     },
     "execution_count": 15,
     "metadata": {},
     "output_type": "execute_result"
    }
   ],
   "source": [
    "\n",
    "df1[\"desc_sit_matricula\"].value_counts( normalize=True)*100"
   ]
  },
  {
   "cell_type": "markdown",
   "metadata": {},
   "source": [
    "### 2.2 Qual é a relação entre o tipo de escola de origem (pública ou privada) e a situação de matrícula?"
   ]
  },
  {
   "cell_type": "code",
   "execution_count": 16,
   "metadata": {},
   "outputs": [
    {
     "data": {
      "text/plain": [
       "desc_tipo_escola_origem\n",
       "Pública         57.093900\n",
       "Privada         39.821796\n",
       "Outros           2.261823\n",
       "Filantrópica     0.822481\n",
       "Name: proportion, dtype: float64"
      ]
     },
     "execution_count": 16,
     "metadata": {},
     "output_type": "execute_result"
    }
   ],
   "source": [
    "df1[\"desc_tipo_escola_origem\"].value_counts( normalize=True)*100"
   ]
  },
  {
   "cell_type": "markdown",
   "metadata": {},
   "source": [
    "### 2.3 Como a situação de matrículas dos alunos estão distribuídas em relação ao sexo?"
   ]
  },
  {
   "cell_type": "code",
   "execution_count": 17,
   "metadata": {},
   "outputs": [],
   "source": [
    "masculino = df1[df1[\"sexo\"] == \"M\"][\"desc_sit_matricula\"].value_counts( normalize=True)*100\n",
    "feminino = df1[df1[\"sexo\"] == \"F\"][\"desc_sit_matricula\"].value_counts( normalize=True)*100"
   ]
  },
  {
   "cell_type": "code",
   "execution_count": 18,
   "metadata": {},
   "outputs": [
    {
     "data": {
      "text/html": [
       "<div>\n",
       "<style scoped>\n",
       "    .dataframe tbody tr th:only-of-type {\n",
       "        vertical-align: middle;\n",
       "    }\n",
       "\n",
       "    .dataframe tbody tr th {\n",
       "        vertical-align: top;\n",
       "    }\n",
       "\n",
       "    .dataframe thead th {\n",
       "        text-align: right;\n",
       "    }\n",
       "</style>\n",
       "<table border=\"1\" class=\"dataframe\">\n",
       "  <thead>\n",
       "    <tr style=\"text-align: right;\">\n",
       "      <th></th>\n",
       "      <th>desc_sit_matricula</th>\n",
       "      <th>feminino</th>\n",
       "      <th>masculino</th>\n",
       "      <th>delta</th>\n",
       "    </tr>\n",
       "  </thead>\n",
       "  <tbody>\n",
       "    <tr>\n",
       "      <th>0</th>\n",
       "      <td>Abandono</td>\n",
       "      <td>28.370787</td>\n",
       "      <td>34.874608</td>\n",
       "      <td>6.503822</td>\n",
       "    </tr>\n",
       "    <tr>\n",
       "      <th>1</th>\n",
       "      <td>Matriculado</td>\n",
       "      <td>24.157303</td>\n",
       "      <td>21.081505</td>\n",
       "      <td>-3.075799</td>\n",
       "    </tr>\n",
       "    <tr>\n",
       "      <th>2</th>\n",
       "      <td>Cancelado Voluntariamente</td>\n",
       "      <td>18.539326</td>\n",
       "      <td>17.006270</td>\n",
       "      <td>-1.533056</td>\n",
       "    </tr>\n",
       "    <tr>\n",
       "      <th>3</th>\n",
       "      <td>Formado</td>\n",
       "      <td>18.258427</td>\n",
       "      <td>17.006270</td>\n",
       "      <td>-1.252157</td>\n",
       "    </tr>\n",
       "    <tr>\n",
       "      <th>4</th>\n",
       "      <td>Trancado</td>\n",
       "      <td>3.651685</td>\n",
       "      <td>1.880878</td>\n",
       "      <td>-1.770808</td>\n",
       "    </tr>\n",
       "    <tr>\n",
       "      <th>5</th>\n",
       "      <td>Cancelado Compulsoriamente</td>\n",
       "      <td>3.089888</td>\n",
       "      <td>3.134796</td>\n",
       "      <td>0.044909</td>\n",
       "    </tr>\n",
       "    <tr>\n",
       "      <th>6</th>\n",
       "      <td>Transferido Interno</td>\n",
       "      <td>2.808989</td>\n",
       "      <td>3.526646</td>\n",
       "      <td>0.717657</td>\n",
       "    </tr>\n",
       "    <tr>\n",
       "      <th>7</th>\n",
       "      <td>Transferido Externo</td>\n",
       "      <td>1.123596</td>\n",
       "      <td>1.097179</td>\n",
       "      <td>-0.026417</td>\n",
       "    </tr>\n",
       "    <tr>\n",
       "      <th>8</th>\n",
       "      <td>Estagiario (Concludente)</td>\n",
       "      <td>NaN</td>\n",
       "      <td>0.235110</td>\n",
       "      <td>NaN</td>\n",
       "    </tr>\n",
       "    <tr>\n",
       "      <th>9</th>\n",
       "      <td>Concludente</td>\n",
       "      <td>NaN</td>\n",
       "      <td>0.156740</td>\n",
       "      <td>NaN</td>\n",
       "    </tr>\n",
       "  </tbody>\n",
       "</table>\n",
       "</div>"
      ],
      "text/plain": [
       "           desc_sit_matricula   feminino  masculino     delta\n",
       "0                    Abandono  28.370787  34.874608  6.503822\n",
       "1                 Matriculado  24.157303  21.081505 -3.075799\n",
       "2   Cancelado Voluntariamente  18.539326  17.006270 -1.533056\n",
       "3                     Formado  18.258427  17.006270 -1.252157\n",
       "4                    Trancado   3.651685   1.880878 -1.770808\n",
       "5  Cancelado Compulsoriamente   3.089888   3.134796  0.044909\n",
       "6         Transferido Interno   2.808989   3.526646  0.717657\n",
       "7         Transferido Externo   1.123596   1.097179 -0.026417\n",
       "8    Estagiario (Concludente)        NaN   0.235110       NaN\n",
       "9                 Concludente        NaN   0.156740       NaN"
      ]
     },
     "execution_count": 18,
     "metadata": {},
     "output_type": "execute_result"
    }
   ],
   "source": [
    "d1 = pd.DataFrame (feminino)\n",
    "d2 = pd.DataFrame (masculino)\n",
    "m = pd.concat([d1,d2], axis=1)\n",
    "m.columns = [\"feminino\",\"masculino\"]\n",
    "m.reset_index(inplace = True)\n",
    "m['delta'] = m['masculino'] - m['feminino']\n",
    "m\n",
    "\n",
    "\n",
    "#print (f\"Situação de matrículas do sexo feminino:{proportion_f} \\n\\n\\n Situação de matrículas do sexo feminino:{proportion_m}\")#"
   ]
  },
  {
   "cell_type": "code",
   "execution_count": 19,
   "metadata": {},
   "outputs": [
    {
     "data": {
      "image/png": "[encoded data removed]",
      "text/plain": [
       "<Figure size 1200x500 with 2 Axes>"
      ]
     },
     "metadata": {},
     "output_type": "display_data"
    }
   ],
   "source": [
    "fig, axes = plt.subplots(1, 2, figsize=(12, 5))\n",
    "\n",
    "# Gráfico 1\n",
    "sns.barplot(data=m, x='feminino', y='desc_sit_matricula',  ax=axes[0])\n",
    "plt.xticks(rotation=90)  # Rotaciona os rótulos do eixo X\n",
    "axes[0].set_title(\"Feminino\")\n",
    "#axes[0].tick_params(rotation=90)  # Rotaciona os rótulos do eixo X\n",
    "\n",
    "\n",
    "# Gráfico 2\n",
    "sns.barplot(data=m, x='masculino', y='desc_sit_matricula', ax=axes[1])\n",
    "axes[1].set_title(\"Masculino\")\n",
    "axes[1].tick_params(axis='x', rotation=360)  # Rotaciona os rótulos do eixo X\n",
    "\n",
    "#max_y = max(m['masculino'].max()*1,3, m['feminino'].max()*1,3)  # Valor máximo entre os dois datasets\n",
    "#axes[0].set_ylim(0, max_y)\n",
    "#axes[1].set_ylim(0, max_y)\n",
    "plt.tight_layout()\n",
    "plt.show()\n"
   ]
  },
  {
   "cell_type": "markdown",
   "metadata": {},
   "source": [
    "### 2.4 Qual é o tempo médio para que um aluno mude de \"ativo\" para outra situação (como \"trancado\" ou \"desistente\")?"
   ]
  },
  {
   "cell_type": "code",
   "execution_count": 20,
   "metadata": {},
   "outputs": [
    {
     "data": {
      "text/plain": [
       "ultimo_evento_matricula\n",
       "Desistência (Evasão): 20/09/2022       3.923973\n",
       "Desistência (Evasão): 04/11/2024       1.778050\n",
       "Renovou matrícula: 27/09/2024          1.778050\n",
       "Desistência (Evasão): 16/03/2023       1.594114\n",
       "Desistência (Evasão): 20/02/2020       1.532802\n",
       "                                         ...   \n",
       "Transferência Interna: 02/06/2016      0.061312\n",
       "Cancelamento Voluntário: 23/05/2012    0.061312\n",
       "Renovou matrícula: 27/02/2020          0.061312\n",
       "Renovou matrícula: 21/08/2017          0.061312\n",
       "Cancelamento Voluntário: 04/09/2012    0.061312\n",
       "Name: proportion, Length: 565, dtype: float64"
      ]
     },
     "execution_count": 20,
     "metadata": {},
     "output_type": "execute_result"
    }
   ],
   "source": [
    "df1[\"ultimo_evento_matricula\"].value_counts( normalize=True)*100   "
   ]
  },
  {
   "cell_type": "markdown",
   "metadata": {},
   "source": [
    "### 2.5 Existe uma correlação entre o coeficiente de rendimento e mudanças na situação de matrícula?"
   ]
  },
  {
   "cell_type": "code",
   "execution_count": 21,
   "metadata": {},
   "outputs": [],
   "source": [
    "df1['coeficiente_rendimento'] = df1['coeficiente_rendimento'].str.replace(',', '.').astype(float)"
   ]
  },
  {
   "cell_type": "code",
   "execution_count": 22,
   "metadata": {},
   "outputs": [
    {
     "data": {
      "text/plain": [
       "5.045"
      ]
     },
     "execution_count": 22,
     "metadata": {},
     "output_type": "execute_result"
    }
   ],
   "source": [
    "np.mean(df1['coeficiente_rendimento'])\n",
    "np.median(df1['coeficiente_rendimento'])"
   ]
  },
  {
   "cell_type": "markdown",
   "metadata": {},
   "source": [
    "### 2.1 Qual é a distribuição das situações de matrícula (ativo, trancado, jubilado, etc.)?"
   ]
  },
  {
   "cell_type": "code",
   "execution_count": null,
   "metadata": {},
   "outputs": [],
   "source": []
  },
  {
   "cell_type": "markdown",
   "metadata": {},
   "source": [
    "### 2.1 Qual é a quantidade de evasão por período ? "
   ]
  },
  {
   "cell_type": "code",
   "execution_count": 39,
   "metadata": {},
   "outputs": [
    {
     "data": {
      "text/plain": [
       "Index(['cod_pessoa', 'cod_matricula', '__dt_conclusao_ensino_medio',\n",
       "       'matriz_estrutura_curso', 'ano_letivo_ini', 'periodo_letivo_ini',\n",
       "       'sit_matricula', 'ano_let_atual', 'periodo_let_atual', 'periodo_atual',\n",
       "       'dt_nascimento', 'cod_aluno', 'tipo_escola_origem', 'sexo',\n",
       "       'cod_cidade', 'texto_cidade', 'desc_forma_ingresso_matricula',\n",
       "       'ano_conclusao_2_grau', 'cod_escola_2_grau', 'cod_grau_instrucao_mae',\n",
       "       'pai_falecido', 'mae_falecida', 'tipo_escola_origem_1', 'desc_cor',\n",
       "       'cod_pessoa_1', 'cod_grau_instrucao', 'cod_nacionalidade',\n",
       "       'cod_estado_civil', 'cod_cidade_1', 'sexo_1', 'dt_nascimento_1',\n",
       "       'cod_naturalidade', 'estado_titulo_ele', 'data_titulo_ele',\n",
       "       'dt_cadastro', 'coeficiente_rendimento', 'desc_nacionalidade',\n",
       "       'desc_escola_2_grau', 'desc_naturalidade', 'cod_turno', 'desc_turno',\n",
       "       'desc_estado_civil', 'desc_tipo_escola_origem', 'desc_sit_matricula',\n",
       "       'desc_cota', 'desc_turno_ini', 'dt_matricula', 'dt_rematricula',\n",
       "       'cl_periodo_let_ini', 'qtd_periodos', 'ultima_aula_presente',\n",
       "       'ultimo_periodo_letivo_presente', 'situacao_ultimo_periodo_letivo',\n",
       "       'desc_sit_matricula_periodo', 'ultimo_evento_matricula',\n",
       "       'dt_ultimo_evento', 'ano_letivo_ultimo_evento', 'cidade'],\n",
       "      dtype='object')"
      ]
     },
     "execution_count": 39,
     "metadata": {},
     "output_type": "execute_result"
    }
   ],
   "source": [
    "df1.columns"
   ]
  },
  {
   "cell_type": "code",
   "execution_count": 41,
   "metadata": {},
   "outputs": [
    {
     "data": {
      "text/plain": [
       "array(['Trancado', 'Cancelou', 'Aprovado', 'Matriculado', 'Abandonou',\n",
       "       'Transferido Interno', 'Cancelou Compulsório',\n",
       "       'Pediu Transf. Externa', 'Aprovado Parcialmente',\n",
       "       'Concluiu Estágio', 'Trancou', 'Colou Grau', 'Concludente',\n",
       "       'Projeto Final (Concludente)', 'Estagiario (Concludente)'],\n",
       "      dtype=object)"
      ]
     },
     "execution_count": 41,
     "metadata": {},
     "output_type": "execute_result"
    }
   ],
   "source": [
    "df1[\"situacao_ultimo_periodo_letivo\"].unique()"
   ]
  },
  {
   "cell_type": "code",
   "execution_count": 66,
   "metadata": {},
   "outputs": [],
   "source": [
    "datas = df1[df1[\"situacao_ultimo_periodo_letivo\"] == \"Abandonou\"]\n",
    "datas = pd.DataFrame(datas[\"ano_let_atual\"].value_counts()).reset_index()"
   ]
  },
  {
   "cell_type": "code",
   "execution_count": 70,
   "metadata": {},
   "outputs": [
    {
     "data": {
      "text/html": [
       "<div>\n",
       "<style scoped>\n",
       "    .dataframe tbody tr th:only-of-type {\n",
       "        vertical-align: middle;\n",
       "    }\n",
       "\n",
       "    .dataframe tbody tr th {\n",
       "        vertical-align: top;\n",
       "    }\n",
       "\n",
       "    .dataframe thead th {\n",
       "        text-align: right;\n",
       "    }\n",
       "</style>\n",
       "<table border=\"1\" class=\"dataframe\">\n",
       "  <thead>\n",
       "    <tr style=\"text-align: right;\">\n",
       "      <th></th>\n",
       "      <th>ano_let_atual</th>\n",
       "      <th>count</th>\n",
       "    </tr>\n",
       "  </thead>\n",
       "  <tbody>\n",
       "    <tr>\n",
       "      <th>0</th>\n",
       "      <td>2022</td>\n",
       "      <td>51</td>\n",
       "    </tr>\n",
       "    <tr>\n",
       "      <th>1</th>\n",
       "      <td>2018</td>\n",
       "      <td>49</td>\n",
       "    </tr>\n",
       "    <tr>\n",
       "      <th>2</th>\n",
       "      <td>2016</td>\n",
       "      <td>45</td>\n",
       "    </tr>\n",
       "    <tr>\n",
       "      <th>3</th>\n",
       "      <td>2012</td>\n",
       "      <td>37</td>\n",
       "    </tr>\n",
       "    <tr>\n",
       "      <th>4</th>\n",
       "      <td>2024</td>\n",
       "      <td>37</td>\n",
       "    </tr>\n",
       "    <tr>\n",
       "      <th>5</th>\n",
       "      <td>2019</td>\n",
       "      <td>36</td>\n",
       "    </tr>\n",
       "    <tr>\n",
       "      <th>6</th>\n",
       "      <td>2020</td>\n",
       "      <td>35</td>\n",
       "    </tr>\n",
       "    <tr>\n",
       "      <th>7</th>\n",
       "      <td>2017</td>\n",
       "      <td>34</td>\n",
       "    </tr>\n",
       "    <tr>\n",
       "      <th>8</th>\n",
       "      <td>2014</td>\n",
       "      <td>34</td>\n",
       "    </tr>\n",
       "    <tr>\n",
       "      <th>9</th>\n",
       "      <td>2013</td>\n",
       "      <td>32</td>\n",
       "    </tr>\n",
       "    <tr>\n",
       "      <th>10</th>\n",
       "      <td>2011</td>\n",
       "      <td>29</td>\n",
       "    </tr>\n",
       "    <tr>\n",
       "      <th>11</th>\n",
       "      <td>2015</td>\n",
       "      <td>29</td>\n",
       "    </tr>\n",
       "    <tr>\n",
       "      <th>12</th>\n",
       "      <td>2021</td>\n",
       "      <td>27</td>\n",
       "    </tr>\n",
       "    <tr>\n",
       "      <th>13</th>\n",
       "      <td>2010</td>\n",
       "      <td>23</td>\n",
       "    </tr>\n",
       "    <tr>\n",
       "      <th>14</th>\n",
       "      <td>2009</td>\n",
       "      <td>21</td>\n",
       "    </tr>\n",
       "    <tr>\n",
       "      <th>15</th>\n",
       "      <td>2023</td>\n",
       "      <td>14</td>\n",
       "    </tr>\n",
       "    <tr>\n",
       "      <th>16</th>\n",
       "      <td>2008</td>\n",
       "      <td>9</td>\n",
       "    </tr>\n",
       "    <tr>\n",
       "      <th>17</th>\n",
       "      <td>2007</td>\n",
       "      <td>4</td>\n",
       "    </tr>\n",
       "  </tbody>\n",
       "</table>\n",
       "</div>"
      ],
      "text/plain": [
       "    ano_let_atual  count\n",
       "0            2022     51\n",
       "1            2018     49\n",
       "2            2016     45\n",
       "3            2012     37\n",
       "4            2024     37\n",
       "5            2019     36\n",
       "6            2020     35\n",
       "7            2017     34\n",
       "8            2014     34\n",
       "9            2013     32\n",
       "10           2011     29\n",
       "11           2015     29\n",
       "12           2021     27\n",
       "13           2010     23\n",
       "14           2009     21\n",
       "15           2023     14\n",
       "16           2008      9\n",
       "17           2007      4"
      ]
     },
     "execution_count": 70,
     "metadata": {},
     "output_type": "execute_result"
    }
   ],
   "source": [
    "datas   "
   ]
  },
  {
   "cell_type": "code",
   "execution_count": 15,
   "metadata": {},
   "outputs": [
    {
     "data": {
      "text/plain": [
       "Index(['cod_pessoa', 'cod_matricula', '__dt_conclusao_ensino_medio',\n",
       "       'matriz_estrutura_curso', 'ano_letivo_ini', 'periodo_letivo_ini',\n",
       "       'sit_matricula', 'ano_let_atual', 'periodo_let_atual', 'periodo_atual',\n",
       "       'dt_nascimento', 'cod_aluno', 'tipo_escola_origem', 'sexo',\n",
       "       'cod_cidade', 'texto_cidade', 'desc_forma_ingresso_matricula',\n",
       "       'ano_conclusao_2_grau', 'cod_escola_2_grau', 'cod_grau_instrucao_mae',\n",
       "       'pai_falecido', 'mae_falecida', 'tipo_escola_origem_1', 'desc_cor',\n",
       "       'cod_pessoa_1', 'cod_grau_instrucao', 'cod_nacionalidade',\n",
       "       'cod_estado_civil', 'cod_cidade_1', 'sexo_1', 'dt_nascimento_1',\n",
       "       'cod_naturalidade', 'estado_titulo_ele', 'data_titulo_ele',\n",
       "       'dt_cadastro', 'coeficiente_rendimento', 'desc_nacionalidade',\n",
       "       'desc_escola_2_grau', 'desc_naturalidade', 'cod_turno', 'desc_turno',\n",
       "       'desc_estado_civil', 'desc_tipo_escola_origem', 'desc_sit_matricula',\n",
       "       'desc_cota', 'desc_turno_ini', 'dt_matricula', 'dt_rematricula',\n",
       "       'cl_periodo_let_ini', 'qtd_periodos', 'ultima_aula_presente',\n",
       "       'ultimo_periodo_letivo_presente', 'situacao_ultimo_periodo_letivo',\n",
       "       'desc_sit_matricula_periodo', 'ultimo_evento_matricula'],\n",
       "      dtype='object')"
      ]
     },
     "execution_count": 15,
     "metadata": {},
     "output_type": "execute_result"
    }
   ],
   "source": [
    "df1.columns"
   ]
  },
  {
   "cell_type": "code",
   "execution_count": 16,
   "metadata": {},
   "outputs": [],
   "source": [
    "df_gen = pd.pivot_table(df1, index = \"ano_letivo_ini\", columns= \"sexo\", values= \"cod_matricula\", aggfunc= \"count\").reset_index()\n"
   ]
  },
  {
   "cell_type": "code",
   "execution_count": 17,
   "metadata": {},
   "outputs": [
    {
     "data": {
      "text/html": [
       "<div>\n",
       "<style scoped>\n",
       "    .dataframe tbody tr th:only-of-type {\n",
       "        vertical-align: middle;\n",
       "    }\n",
       "\n",
       "    .dataframe tbody tr th {\n",
       "        vertical-align: top;\n",
       "    }\n",
       "\n",
       "    .dataframe thead th {\n",
       "        text-align: right;\n",
       "    }\n",
       "</style>\n",
       "<table border=\"1\" class=\"dataframe\">\n",
       "  <thead>\n",
       "    <tr style=\"text-align: right;\">\n",
       "      <th>sexo</th>\n",
       "      <th>ano_letivo_ini</th>\n",
       "      <th>F</th>\n",
       "      <th>M</th>\n",
       "    </tr>\n",
       "  </thead>\n",
       "  <tbody>\n",
       "    <tr>\n",
       "      <th>0</th>\n",
       "      <td>2007</td>\n",
       "      <td>10</td>\n",
       "      <td>49</td>\n",
       "    </tr>\n",
       "    <tr>\n",
       "      <th>1</th>\n",
       "      <td>2008</td>\n",
       "      <td>10</td>\n",
       "      <td>54</td>\n",
       "    </tr>\n",
       "    <tr>\n",
       "      <th>2</th>\n",
       "      <td>2009</td>\n",
       "      <td>9</td>\n",
       "      <td>58</td>\n",
       "    </tr>\n",
       "    <tr>\n",
       "      <th>3</th>\n",
       "      <td>2010</td>\n",
       "      <td>22</td>\n",
       "      <td>63</td>\n",
       "    </tr>\n",
       "    <tr>\n",
       "      <th>4</th>\n",
       "      <td>2011</td>\n",
       "      <td>22</td>\n",
       "      <td>75</td>\n",
       "    </tr>\n",
       "    <tr>\n",
       "      <th>5</th>\n",
       "      <td>2012</td>\n",
       "      <td>11</td>\n",
       "      <td>76</td>\n",
       "    </tr>\n",
       "    <tr>\n",
       "      <th>6</th>\n",
       "      <td>2013</td>\n",
       "      <td>19</td>\n",
       "      <td>78</td>\n",
       "    </tr>\n",
       "    <tr>\n",
       "      <th>7</th>\n",
       "      <td>2014</td>\n",
       "      <td>13</td>\n",
       "      <td>62</td>\n",
       "    </tr>\n",
       "    <tr>\n",
       "      <th>8</th>\n",
       "      <td>2015</td>\n",
       "      <td>27</td>\n",
       "      <td>74</td>\n",
       "    </tr>\n",
       "    <tr>\n",
       "      <th>9</th>\n",
       "      <td>2016</td>\n",
       "      <td>35</td>\n",
       "      <td>100</td>\n",
       "    </tr>\n",
       "    <tr>\n",
       "      <th>10</th>\n",
       "      <td>2017</td>\n",
       "      <td>21</td>\n",
       "      <td>83</td>\n",
       "    </tr>\n",
       "    <tr>\n",
       "      <th>11</th>\n",
       "      <td>2018</td>\n",
       "      <td>17</td>\n",
       "      <td>76</td>\n",
       "    </tr>\n",
       "    <tr>\n",
       "      <th>12</th>\n",
       "      <td>2019</td>\n",
       "      <td>15</td>\n",
       "      <td>83</td>\n",
       "    </tr>\n",
       "    <tr>\n",
       "      <th>13</th>\n",
       "      <td>2020</td>\n",
       "      <td>18</td>\n",
       "      <td>76</td>\n",
       "    </tr>\n",
       "    <tr>\n",
       "      <th>14</th>\n",
       "      <td>2021</td>\n",
       "      <td>24</td>\n",
       "      <td>61</td>\n",
       "    </tr>\n",
       "    <tr>\n",
       "      <th>15</th>\n",
       "      <td>2022</td>\n",
       "      <td>30</td>\n",
       "      <td>61</td>\n",
       "    </tr>\n",
       "    <tr>\n",
       "      <th>16</th>\n",
       "      <td>2023</td>\n",
       "      <td>28</td>\n",
       "      <td>72</td>\n",
       "    </tr>\n",
       "    <tr>\n",
       "      <th>17</th>\n",
       "      <td>2024</td>\n",
       "      <td>25</td>\n",
       "      <td>75</td>\n",
       "    </tr>\n",
       "  </tbody>\n",
       "</table>\n",
       "</div>"
      ],
      "text/plain": [
       "sexo  ano_letivo_ini   F    M\n",
       "0               2007  10   49\n",
       "1               2008  10   54\n",
       "2               2009   9   58\n",
       "3               2010  22   63\n",
       "4               2011  22   75\n",
       "5               2012  11   76\n",
       "6               2013  19   78\n",
       "7               2014  13   62\n",
       "8               2015  27   74\n",
       "9               2016  35  100\n",
       "10              2017  21   83\n",
       "11              2018  17   76\n",
       "12              2019  15   83\n",
       "13              2020  18   76\n",
       "14              2021  24   61\n",
       "15              2022  30   61\n",
       "16              2023  28   72\n",
       "17              2024  25   75"
      ]
     },
     "execution_count": 17,
     "metadata": {},
     "output_type": "execute_result"
    }
   ],
   "source": [
    "df_gen"
   ]
  },
  {
   "cell_type": "code",
   "execution_count": 7,
   "metadata": {},
   "outputs": [
    {
     "data": {
      "text/plain": [
       "Index(['Cod_Pessoa', 'cod_matricula', '__Dt_Conclusao_Ensino_Medio',\n",
       "       'Matriz_Estrutura_Curso', 'ano_letivo_ini', 'Periodo_letivo_ini',\n",
       "       'Sit_Matricula', 'Ano_Let_Atual', 'Periodo_Let_Atual', 'Periodo_Atual',\n",
       "       'Dt_Nascimento', 'Cod_Aluno', 'Tipo_escola_Origem', 'sexo',\n",
       "       'Cod_cidade', 'Texto_cidade', 'Desc_Forma_Ingresso_Matricula',\n",
       "       'Ano_Conclusao_2_Grau', 'Cod_Escola_2_Grau', 'Cod_Grau_Instrucao_Mae',\n",
       "       'Pai_Falecido', 'Mae_Falecida', 'Tipo_Escola_Origem_1', 'Desc_Cor',\n",
       "       'Cod_Pessoa_1', 'Cod_Grau_Instrucao', 'Cod_Nacionalidade',\n",
       "       'Cod_Estado_Civil', 'Cod_Cidade_1', 'Sexo_1', 'Dt_Nascimento_1',\n",
       "       'Cod_Naturalidade', 'Estado_Titulo_Ele', 'Data_Titulo_Ele',\n",
       "       'Dt_Cadastro', 'Coeficiente_Rendimento', 'DESC_NACIONALIDADE',\n",
       "       'Desc_Escola_2_Grau', 'Desc_Naturalidade', 'Cod_Turno', 'Desc_Turno',\n",
       "       'Desc_Estado_Civil', 'Desc_Tipo_Escola_Origem', 'Desc_Sit_Matricula',\n",
       "       'Desc_Cota', 'Desc_Turno_Ini', 'dt_matricula', 'DT_Rematricula',\n",
       "       'clPeriodo_Let_ini', 'Qtd_Periodos', 'Ultima_Aula_Presente',\n",
       "       'Ultimo_Periodo_Letivo_Presente', 'Situacao_Ultimo_Periodo_Letivo',\n",
       "       'DESC_SIT_MATRICULA_PERIODO', 'Ultimo_Evento_Matricula'],\n",
       "      dtype='object')"
      ]
     },
     "execution_count": 7,
     "metadata": {},
     "output_type": "execute_result"
    }
   ],
   "source": [
    "df1.columns"
   ]
  },
  {
   "cell_type": "code",
   "execution_count": 5,
   "metadata": {},
   "outputs": [
    {
     "data": {
      "text/html": [
       "<div>\n",
       "<style scoped>\n",
       "    .dataframe tbody tr th:only-of-type {\n",
       "        vertical-align: middle;\n",
       "    }\n",
       "\n",
       "    .dataframe tbody tr th {\n",
       "        vertical-align: top;\n",
       "    }\n",
       "\n",
       "    .dataframe thead th {\n",
       "        text-align: right;\n",
       "    }\n",
       "</style>\n",
       "<table border=\"1\" class=\"dataframe\">\n",
       "  <thead>\n",
       "    <tr style=\"text-align: right;\">\n",
       "      <th></th>\n",
       "      <th>sexo</th>\n",
       "      <th>count</th>\n",
       "    </tr>\n",
       "  </thead>\n",
       "  <tbody>\n",
       "    <tr>\n",
       "      <th>1</th>\n",
       "      <td>F</td>\n",
       "      <td>356</td>\n",
       "    </tr>\n",
       "    <tr>\n",
       "      <th>0</th>\n",
       "      <td>M</td>\n",
       "      <td>1276</td>\n",
       "    </tr>\n",
       "  </tbody>\n",
       "</table>\n",
       "</div>"
      ],
      "text/plain": [
       "  sexo  count\n",
       "1    F    356\n",
       "0    M   1276"
      ]
     },
     "execution_count": 5,
     "metadata": {},
     "output_type": "execute_result"
    }
   ],
   "source": [
    "df_gen"
   ]
  }
 ],
 "metadata": {
  "kernelspec": {
   "display_name": "Python 3",
   "language": "python",
   "name": "python3"
  },
  "language_info": {
   "codemirror_mode": {
    "name": "ipython",
    "version": 3
   },
   "file_extension": ".py",
   "mimetype": "text/x-python",
   "name": "python",
   "nbconvert_exporter": "python",
   "pygments_lexer": "ipython3",
   "version": "3.12.0"
  }
 },
 "nbformat": 4,
 "nbformat_minor": 2
}
