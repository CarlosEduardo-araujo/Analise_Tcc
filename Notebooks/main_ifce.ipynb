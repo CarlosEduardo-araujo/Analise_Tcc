{
 "cells": [
  {
   "cell_type": "markdown",
   "metadata": {},
   "source": [
    "## 0.0 Importações"
   ]
  },
  {
   "cell_type": "code",
   "execution_count": 1,
   "metadata": {},
   "outputs": [],
   "source": [
    "import pandas as pd\n",
    "import inflection"
   ]
  },
  {
   "cell_type": "markdown",
   "metadata": {},
   "source": [
    "### 0.1 Carregamento da base"
   ]
  },
  {
   "cell_type": "code",
   "execution_count": 4,
   "metadata": {},
   "outputs": [],
   "source": [
    "df_raw = pd.read_csv(r\"..\\Data\\matriculasFinal-phase2.csv\",sep=';', encoding='latin')\n"
   ]
  },
  {
   "cell_type": "markdown",
   "metadata": {},
   "source": [
    "## 1.0 Descrição dos dados"
   ]
  },
  {
   "cell_type": "code",
   "execution_count": 6,
   "metadata": {},
   "outputs": [
    {
     "data": {
      "text/html": [
       "<div>\n",
       "<style scoped>\n",
       "    .dataframe tbody tr th:only-of-type {\n",
       "        vertical-align: middle;\n",
       "    }\n",
       "\n",
       "    .dataframe tbody tr th {\n",
       "        vertical-align: top;\n",
       "    }\n",
       "\n",
       "    .dataframe thead th {\n",
       "        text-align: right;\n",
       "    }\n",
       "</style>\n",
       "<table border=\"1\" class=\"dataframe\">\n",
       "  <thead>\n",
       "    <tr style=\"text-align: right;\">\n",
       "      <th></th>\n",
       "      <th>Cod_Pessoa</th>\n",
       "      <th>cod_matricula</th>\n",
       "      <th>__Dt_Conclusao_Ensino_Medio</th>\n",
       "      <th>Matriz_Estrutura_Curso</th>\n",
       "      <th>ano_letivo_ini</th>\n",
       "      <th>Periodo_letivo_ini</th>\n",
       "      <th>Sit_Matricula</th>\n",
       "      <th>Ano_Let_Atual</th>\n",
       "      <th>Periodo_Let_Atual</th>\n",
       "      <th>Periodo_Atual</th>\n",
       "      <th>...</th>\n",
       "      <th>Desc_Turno_Ini</th>\n",
       "      <th>dt_matricula</th>\n",
       "      <th>DT_Rematricula</th>\n",
       "      <th>clPeriodo_Let_ini</th>\n",
       "      <th>Qtd_Periodos</th>\n",
       "      <th>Ultima_Aula_Presente</th>\n",
       "      <th>Ultimo_Periodo_Letivo_Presente</th>\n",
       "      <th>Situacao_Ultimo_Periodo_Letivo</th>\n",
       "      <th>DESC_SIT_MATRICULA_PERIODO</th>\n",
       "      <th>Ultimo_Evento_Matricula</th>\n",
       "    </tr>\n",
       "  </thead>\n",
       "  <tbody>\n",
       "    <tr>\n",
       "      <th>0</th>\n",
       "      <td>414628</td>\n",
       "      <td>518696</td>\n",
       "      <td>1986.0</td>\n",
       "      <td>32</td>\n",
       "      <td>2023</td>\n",
       "      <td>2</td>\n",
       "      <td>2</td>\n",
       "      <td>2024</td>\n",
       "      <td>1</td>\n",
       "      <td>2</td>\n",
       "      <td>...</td>\n",
       "      <td>Integral</td>\n",
       "      <td>13/07/2023</td>\n",
       "      <td>13/07/2023</td>\n",
       "      <td>2023/2</td>\n",
       "      <td>10</td>\n",
       "      <td>30/09/2024</td>\n",
       "      <td>2024/1</td>\n",
       "      <td>Trancado</td>\n",
       "      <td>Trancado</td>\n",
       "      <td>Trancamento de Período: 04/03/2024</td>\n",
       "    </tr>\n",
       "    <tr>\n",
       "      <th>1</th>\n",
       "      <td>98957</td>\n",
       "      <td>97636</td>\n",
       "      <td>2008.0</td>\n",
       "      <td>32</td>\n",
       "      <td>2012</td>\n",
       "      <td>2</td>\n",
       "      <td>10</td>\n",
       "      <td>2016</td>\n",
       "      <td>2</td>\n",
       "      <td>7</td>\n",
       "      <td>...</td>\n",
       "      <td>Matutino</td>\n",
       "      <td>10/12/2012</td>\n",
       "      <td>10/12/2012</td>\n",
       "      <td>2012/2</td>\n",
       "      <td>11</td>\n",
       "      <td>20/03/2017</td>\n",
       "      <td>2016/2</td>\n",
       "      <td>Cancelou</td>\n",
       "      <td>Cancelou</td>\n",
       "      <td>Cancelamento Voluntário: 31/10/2016</td>\n",
       "    </tr>\n",
       "    <tr>\n",
       "      <th>2</th>\n",
       "      <td>98957</td>\n",
       "      <td>205828</td>\n",
       "      <td>2008.0</td>\n",
       "      <td>32</td>\n",
       "      <td>2016</td>\n",
       "      <td>2</td>\n",
       "      <td>18</td>\n",
       "      <td>2016</td>\n",
       "      <td>2</td>\n",
       "      <td>1</td>\n",
       "      <td>...</td>\n",
       "      <td>Matutino</td>\n",
       "      <td>31/10/2016</td>\n",
       "      <td>31/10/2016</td>\n",
       "      <td>2016/2</td>\n",
       "      <td>11</td>\n",
       "      <td>20/03/2017</td>\n",
       "      <td>2016/2</td>\n",
       "      <td>Aprovado</td>\n",
       "      <td>Aprovado</td>\n",
       "      <td>Concluiu: 06/04/2017</td>\n",
       "    </tr>\n",
       "    <tr>\n",
       "      <th>3</th>\n",
       "      <td>436461</td>\n",
       "      <td>519459</td>\n",
       "      <td>2022.0</td>\n",
       "      <td>32</td>\n",
       "      <td>2023</td>\n",
       "      <td>2</td>\n",
       "      <td>0</td>\n",
       "      <td>2024</td>\n",
       "      <td>2</td>\n",
       "      <td>10</td>\n",
       "      <td>...</td>\n",
       "      <td>Integral</td>\n",
       "      <td>20/07/2023</td>\n",
       "      <td>20/07/2023</td>\n",
       "      <td>2023/2</td>\n",
       "      <td>10</td>\n",
       "      <td>05/12/2024</td>\n",
       "      <td>2024/2</td>\n",
       "      <td>Matriculado</td>\n",
       "      <td>Matriculado</td>\n",
       "      <td>Renovou matrícula: 20/07/2023</td>\n",
       "    </tr>\n",
       "    <tr>\n",
       "      <th>4</th>\n",
       "      <td>108508</td>\n",
       "      <td>107372</td>\n",
       "      <td>NaN</td>\n",
       "      <td>32</td>\n",
       "      <td>2013</td>\n",
       "      <td>1</td>\n",
       "      <td>9</td>\n",
       "      <td>2017</td>\n",
       "      <td>2</td>\n",
       "      <td>6</td>\n",
       "      <td>...</td>\n",
       "      <td>Matutino</td>\n",
       "      <td>21/05/2013</td>\n",
       "      <td>21/05/2013</td>\n",
       "      <td>2013/1</td>\n",
       "      <td>11</td>\n",
       "      <td>19/07/2017</td>\n",
       "      <td>2017/1</td>\n",
       "      <td>Abandonou</td>\n",
       "      <td>Abandonou</td>\n",
       "      <td>Desistência (Evasão): 26/09/2017</td>\n",
       "    </tr>\n",
       "  </tbody>\n",
       "</table>\n",
       "<p>5 rows × 55 columns</p>\n",
       "</div>"
      ],
      "text/plain": [
       "   Cod_Pessoa  cod_matricula  __Dt_Conclusao_Ensino_Medio  \\\n",
       "0      414628         518696                       1986.0   \n",
       "1       98957          97636                       2008.0   \n",
       "2       98957         205828                       2008.0   \n",
       "3      436461         519459                       2022.0   \n",
       "4      108508         107372                          NaN   \n",
       "\n",
       "   Matriz_Estrutura_Curso  ano_letivo_ini  Periodo_letivo_ini  Sit_Matricula  \\\n",
       "0                      32            2023                   2              2   \n",
       "1                      32            2012                   2             10   \n",
       "2                      32            2016                   2             18   \n",
       "3                      32            2023                   2              0   \n",
       "4                      32            2013                   1              9   \n",
       "\n",
       "   Ano_Let_Atual  Periodo_Let_Atual  Periodo_Atual  ... Desc_Turno_Ini  \\\n",
       "0           2024                  1              2  ...       Integral   \n",
       "1           2016                  2              7  ...       Matutino   \n",
       "2           2016                  2              1  ...       Matutino   \n",
       "3           2024                  2             10  ...       Integral   \n",
       "4           2017                  2              6  ...       Matutino   \n",
       "\n",
       "   dt_matricula DT_Rematricula clPeriodo_Let_ini  Qtd_Periodos  \\\n",
       "0    13/07/2023     13/07/2023            2023/2            10   \n",
       "1    10/12/2012     10/12/2012            2012/2            11   \n",
       "2    31/10/2016     31/10/2016            2016/2            11   \n",
       "3    20/07/2023     20/07/2023            2023/2            10   \n",
       "4    21/05/2013     21/05/2013            2013/1            11   \n",
       "\n",
       "  Ultima_Aula_Presente Ultimo_Periodo_Letivo_Presente  \\\n",
       "0           30/09/2024                         2024/1   \n",
       "1           20/03/2017                         2016/2   \n",
       "2           20/03/2017                         2016/2   \n",
       "3           05/12/2024                         2024/2   \n",
       "4           19/07/2017                         2017/1   \n",
       "\n",
       "   Situacao_Ultimo_Periodo_Letivo  DESC_SIT_MATRICULA_PERIODO  \\\n",
       "0                        Trancado                    Trancado   \n",
       "1                        Cancelou                    Cancelou   \n",
       "2                        Aprovado                    Aprovado   \n",
       "3                     Matriculado                 Matriculado   \n",
       "4                       Abandonou                   Abandonou   \n",
       "\n",
       "               Ultimo_Evento_Matricula  \n",
       "0   Trancamento de Período: 04/03/2024  \n",
       "1  Cancelamento Voluntário: 31/10/2016  \n",
       "2                 Concluiu: 06/04/2017  \n",
       "3        Renovou matrícula: 20/07/2023  \n",
       "4     Desistência (Evasão): 26/09/2017  \n",
       "\n",
       "[5 rows x 55 columns]"
      ]
     },
     "execution_count": 6,
     "metadata": {},
     "output_type": "execute_result"
    }
   ],
   "source": [
    "df1 = df_raw.copy()\n",
    "df1.head()"
   ]
  },
  {
   "cell_type": "markdown",
   "metadata": {},
   "source": [
    "### 1.1 Dimensão dos dados"
   ]
  },
  {
   "cell_type": "code",
   "execution_count": 7,
   "metadata": {},
   "outputs": [
    {
     "name": "stdout",
     "output_type": "stream",
     "text": [
      "Número de linhas: 1632\n",
      "Número de colunas: 55\n"
     ]
    }
   ],
   "source": [
    "print(f\"Número de linhas: {df1.shape[0]}\")\n",
    "print(f\"Número de colunas: {df1.shape[1]}\")"
   ]
  },
  {
   "cell_type": "markdown",
   "metadata": {},
   "source": [
    "### 1.2 Renomeando as colunas"
   ]
  },
  {
   "cell_type": "code",
   "execution_count": 8,
   "metadata": {},
   "outputs": [],
   "source": [
    "cols_old = df_raw.columns.to_list()\n",
    "\n",
    "snakecase = lambda x: inflection.underscore( x )\n",
    "\n",
    "cols_new =   map (snakecase, cols_old)\n",
    "\n",
    "df1.columns = cols_new\n"
   ]
  },
  {
   "cell_type": "code",
   "execution_count": 9,
   "metadata": {},
   "outputs": [
    {
     "data": {
      "text/plain": [
       "Index(['cod_pessoa', 'cod_matricula', '__dt_conclusao_ensino_medio',\n",
       "       'matriz_estrutura_curso', 'ano_letivo_ini', 'periodo_letivo_ini',\n",
       "       'sit_matricula', 'ano_let_atual', 'periodo_let_atual', 'periodo_atual',\n",
       "       'dt_nascimento', 'cod_aluno', 'tipo_escola_origem', 'sexo',\n",
       "       'cod_cidade', 'texto_cidade', 'desc_forma_ingresso_matricula',\n",
       "       'ano_conclusao_2_grau', 'cod_escola_2_grau', 'cod_grau_instrucao_mae',\n",
       "       'pai_falecido', 'mae_falecida', 'tipo_escola_origem_1', 'desc_cor',\n",
       "       'cod_pessoa_1', 'cod_grau_instrucao', 'cod_nacionalidade',\n",
       "       'cod_estado_civil', 'cod_cidade_1', 'sexo_1', 'dt_nascimento_1',\n",
       "       'cod_naturalidade', 'estado_titulo_ele', 'data_titulo_ele',\n",
       "       'dt_cadastro', 'coeficiente_rendimento', 'desc_nacionalidade',\n",
       "       'desc_escola_2_grau', 'desc_naturalidade', 'cod_turno', 'desc_turno',\n",
       "       'desc_estado_civil', 'desc_tipo_escola_origem', 'desc_sit_matricula',\n",
       "       'desc_cota', 'desc_turno_ini', 'dt_matricula', 'dt_rematricula',\n",
       "       'cl_periodo_let_ini', 'qtd_periodos', 'ultima_aula_presente',\n",
       "       'ultimo_periodo_letivo_presente', 'situacao_ultimo_periodo_letivo',\n",
       "       'desc_sit_matricula_periodo', 'ultimo_evento_matricula'],\n",
       "      dtype='object')"
      ]
     },
     "execution_count": 9,
     "metadata": {},
     "output_type": "execute_result"
    }
   ],
   "source": [
    "df1.columns"
   ]
  },
  {
   "cell_type": "markdown",
   "metadata": {},
   "source": [
    "### 1.3 tipo dos dados"
   ]
  },
  {
   "cell_type": "code",
   "execution_count": 34,
   "metadata": {},
   "outputs": [
    {
     "data": {
      "text/plain": [
       "cod_pessoa                          int64\n",
       "cod_matricula                       int64\n",
       "__dt_conclusao_ensino_medio       float64\n",
       "matriz_estrutura_curso              int64\n",
       "ano_letivo_ini                      int64\n",
       "periodo_letivo_ini                  int64\n",
       "sit_matricula                       int64\n",
       "ano_let_atual                       int64\n",
       "periodo_let_atual                   int64\n",
       "periodo_atual                       int64\n",
       "dt_nascimento                      object\n",
       "cod_aluno                           int64\n",
       "tipo_escola_origem                 object\n",
       "sexo                               object\n",
       "cod_cidade                        float64\n",
       "texto_cidade                       object\n",
       "desc_forma_ingresso_matricula      object\n",
       "ano_conclusao_2_grau              float64\n",
       "cod_escola_2_grau                 float64\n",
       "cod_grau_instrucao_mae             object\n",
       "pai_falecido                      float64\n",
       "mae_falecida                      float64\n",
       "tipo_escola_origem_1               object\n",
       "desc_cor                           object\n",
       "cod_pessoa_1                        int64\n",
       "cod_grau_instrucao                 object\n",
       "cod_nacionalidade                  object\n",
       "cod_estado_civil                   object\n",
       "cod_cidade_1                      float64\n",
       "sexo_1                             object\n",
       "dt_nascimento_1                    object\n",
       "cod_naturalidade                  float64\n",
       "estado_titulo_ele                  object\n",
       "data_titulo_ele                    object\n",
       "dt_cadastro                        object\n",
       "coeficiente_rendimento             object\n",
       "desc_nacionalidade                 object\n",
       "desc_escola_2_grau                 object\n",
       "desc_naturalidade                  object\n",
       "cod_turno                          object\n",
       "desc_turno                         object\n",
       "desc_estado_civil                  object\n",
       "desc_tipo_escola_origem            object\n",
       "desc_sit_matricula                 object\n",
       "desc_cota                          object\n",
       "desc_turno_ini                     object\n",
       "dt_matricula                       object\n",
       "dt_rematricula                     object\n",
       "cl_periodo_let_ini                 object\n",
       "qtd_periodos                        int64\n",
       "ultima_aula_presente               object\n",
       "ultimo_periodo_letivo_presente     object\n",
       "situacao_ultimo_periodo_letivo     object\n",
       "desc_sit_matricula_periodo         object\n",
       "ultimo_evento_matricula            object\n",
       "dtype: object"
      ]
     },
     "execution_count": 34,
     "metadata": {},
     "output_type": "execute_result"
    }
   ],
   "source": [
    "df1.dtypes"
   ]
  },
  {
   "cell_type": "markdown",
   "metadata": {},
   "source": [
    "### 1.2 Checando dados nulos"
   ]
  },
  {
   "cell_type": "code",
   "execution_count": 35,
   "metadata": {},
   "outputs": [
    {
     "data": {
      "text/plain": [
       "cod_pessoa                          0\n",
       "cod_matricula                       0\n",
       "__dt_conclusao_ensino_medio       174\n",
       "matriz_estrutura_curso              0\n",
       "ano_letivo_ini                      0\n",
       "periodo_letivo_ini                  0\n",
       "sit_matricula                       0\n",
       "ano_let_atual                       0\n",
       "periodo_let_atual                   0\n",
       "periodo_atual                       0\n",
       "dt_nascimento                       0\n",
       "cod_aluno                           0\n",
       "tipo_escola_origem                173\n",
       "sexo                                0\n",
       "cod_cidade                         14\n",
       "texto_cidade                       14\n",
       "desc_forma_ingresso_matricula       0\n",
       "ano_conclusao_2_grau              174\n",
       "cod_escola_2_grau                 146\n",
       "cod_grau_instrucao_mae            794\n",
       "pai_falecido                       65\n",
       "mae_falecida                       59\n",
       "tipo_escola_origem_1              173\n",
       "desc_cor                            0\n",
       "cod_pessoa_1                        0\n",
       "cod_grau_instrucao                597\n",
       "cod_nacionalidade                   0\n",
       "cod_estado_civil                  102\n",
       "cod_cidade_1                       14\n",
       "sexo_1                              0\n",
       "dt_nascimento_1                     0\n",
       "cod_naturalidade                    2\n",
       "estado_titulo_ele                 265\n",
       "data_titulo_ele                   281\n",
       "dt_cadastro                         0\n",
       "coeficiente_rendimento              0\n",
       "desc_nacionalidade                  0\n",
       "desc_escola_2_grau                146\n",
       "desc_naturalidade                   2\n",
       "cod_turno                           0\n",
       "desc_turno                          0\n",
       "desc_estado_civil                 102\n",
       "desc_tipo_escola_origem           173\n",
       "desc_sit_matricula                  0\n",
       "desc_cota                         519\n",
       "desc_turno_ini                      0\n",
       "dt_matricula                        0\n",
       "dt_rematricula                      0\n",
       "cl_periodo_let_ini                  0\n",
       "qtd_periodos                        0\n",
       "ultima_aula_presente               19\n",
       "ultimo_periodo_letivo_presente      0\n",
       "situacao_ultimo_periodo_letivo      0\n",
       "desc_sit_matricula_periodo          0\n",
       "ultimo_evento_matricula             1\n",
       "dtype: int64"
      ]
     },
     "execution_count": 35,
     "metadata": {},
     "output_type": "execute_result"
    }
   ],
   "source": [
    "df1.isna().sum()"
   ]
  },
  {
   "cell_type": "markdown",
   "metadata": {},
   "source": [
    "## 2.0 Perguntas à serem respondidas:"
   ]
  },
  {
   "cell_type": "markdown",
   "metadata": {},
   "source": [
    "### 2.1 Qual é a distribuição das situações de matrícula (ativo, trancado, jubilado, etc.)?"
   ]
  },
  {
   "cell_type": "code",
   "execution_count": null,
   "metadata": {},
   "outputs": [
    {
     "data": {
      "text/plain": [
       "Index(['cod_pessoa', 'cod_matricula', '__dt_conclusao_ensino_medio',\n",
       "       'matriz_estrutura_curso', 'ano_letivo_ini', 'periodo_letivo_ini',\n",
       "       'sit_matricula', 'ano_let_atual', 'periodo_let_atual', 'periodo_atual',\n",
       "       'dt_nascimento', 'cod_aluno', 'tipo_escola_origem', 'sexo',\n",
       "       'cod_cidade', 'texto_cidade', 'desc_forma_ingresso_matricula',\n",
       "       'ano_conclusao_2_grau', 'cod_escola_2_grau', 'cod_grau_instrucao_mae',\n",
       "       'pai_falecido', 'mae_falecida', 'tipo_escola_origem_1', 'desc_cor',\n",
       "       'cod_pessoa_1', 'cod_grau_instrucao', 'cod_nacionalidade',\n",
       "       'cod_estado_civil', 'cod_cidade_1', 'sexo_1', 'dt_nascimento_1',\n",
       "       'cod_naturalidade', 'estado_titulo_ele', 'data_titulo_ele',\n",
       "       'dt_cadastro', 'coeficiente_rendimento', 'desc_nacionalidade',\n",
       "       'desc_escola_2_grau', 'desc_naturalidade', 'cod_turno', 'desc_turno',\n",
       "       'desc_estado_civil', 'desc_tipo_escola_origem', 'desc_sit_matricula',\n",
       "       'desc_cota', 'desc_turno_ini', 'dt_matricula', 'dt_rematricula',\n",
       "       'cl_periodo_let_ini', 'qtd_periodos', 'ultima_aula_presente',\n",
       "       'ultimo_periodo_letivo_presente', 'situacao_ultimo_periodo_letivo',\n",
       "       'desc_sit_matricula_periodo', 'ultimo_evento_matricula'],\n",
       "      dtype='object')"
      ]
     },
     "execution_count": 13,
     "metadata": {},
     "output_type": "execute_result"
    }
   ],
   "source": [
    "df1.columns"
   ]
  },
  {
   "cell_type": "code",
   "execution_count": 18,
   "metadata": {},
   "outputs": [
    {
     "data": {
      "text/plain": [
       "desc_sit_matricula\n",
       "Abandono                      33.455882\n",
       "Matriculado                   21.752451\n",
       "Cancelado Voluntariamente     17.340686\n",
       "Formado                       17.279412\n",
       "Transferido Interno            3.370098\n",
       "Cancelado Compulsoriamente     3.125000\n",
       "Trancado                       2.267157\n",
       "Transferido Externo            1.102941\n",
       "Estagiario (Concludente)       0.183824\n",
       "Concludente                    0.122549\n",
       "Name: proportion, dtype: float64"
      ]
     },
     "execution_count": 18,
     "metadata": {},
     "output_type": "execute_result"
    }
   ],
   "source": [
    "df1[\"desc_sit_matricula\"].value_counts( normalize=True)*100"
   ]
  },
  {
   "cell_type": "markdown",
   "metadata": {},
   "source": [
    "### 2.2 Qual é a relação entre o tipo de escola de origem (pública ou privada) e a situação de matrícula?"
   ]
  },
  {
   "cell_type": "code",
   "execution_count": 20,
   "metadata": {},
   "outputs": [
    {
     "data": {
      "text/plain": [
       "desc_tipo_escola_origem\n",
       "Pública Estadual     44.002742\n",
       "Privada              39.821796\n",
       "Pública Federal      11.925977\n",
       "Outros                2.261823\n",
       "Pública Municipal     1.165182\n",
       "Filantrópica          0.822481\n",
       "Name: proportion, dtype: float64"
      ]
     },
     "execution_count": 20,
     "metadata": {},
     "output_type": "execute_result"
    }
   ],
   "source": [
    "df1[\"desc_tipo_escola_origem\"].value_counts( normalize=True)*100"
   ]
  },
  {
   "cell_type": "markdown",
   "metadata": {},
   "source": [
    "### 2.3 Como a situação de matrículas dos alunos estão distribuídas em relação ao sexo?"
   ]
  },
  {
   "cell_type": "markdown",
   "metadata": {},
   "source": [
    "### 2.4 Qual é o tempo médio para que um aluno mude de \"ativo\" para outra situação (como \"trancado\" ou \"desistente\")?"
   ]
  },
  {
   "cell_type": "markdown",
   "metadata": {},
   "source": [
    "### 2.5 Existe uma correlação entre o coeficiente de rendimento e mudanças na situação de matrícula?"
   ]
  },
  {
   "cell_type": "code",
   "execution_count": null,
   "metadata": {},
   "outputs": [],
   "source": []
  }
 ],
 "metadata": {
  "kernelspec": {
   "display_name": "Python 3",
   "language": "python",
   "name": "python3"
  },
  "language_info": {
   "codemirror_mode": {
    "name": "ipython",
    "version": 3
   },
   "file_extension": ".py",
   "mimetype": "text/x-python",
   "name": "python",
   "nbconvert_exporter": "python",
   "pygments_lexer": "ipython3",
   "version": "3.12.0"
  }
 },
 "nbformat": 4,
 "nbformat_minor": 2
}
